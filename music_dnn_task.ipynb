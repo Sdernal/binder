{
 "cells": [
  {
   "cell_type": "code",
   "execution_count": 2,
   "metadata": {
    "collapsed": false
   },
   "outputs": [
    {
     "name": "stdout",
     "output_type": "stream",
     "text": [
      "Populating the interactive namespace from numpy and matplotlib\n"
     ]
    }
   ],
   "source": [
    "#coding: utf-8\n",
    "\n",
    "import warnings\n",
    "warnings.simplefilter(\"ignore\")\n",
    "\n",
    "import os\n",
    "import sys \n",
    "import wave\n",
    "import time\n",
    "import librosa\n",
    "import numpy as np\n",
    "import seaborn as sns\n",
    "from utils import *\n",
    "import matplotlib.pyplot as plt\n",
    "from StringIO import StringIO\n",
    "\n",
    "%pylab inline\n",
    "\n",
    "# sudo pip install librosa\n",
    "# ubuntu: sudo apt-get install libav-tools\n",
    "# OSX   : brew install libav OMP_NUM_THREADS=2"
   ]
  },
  {
   "cell_type": "code",
   "execution_count": 3,
   "metadata": {
    "collapsed": false
   },
   "outputs": [],
   "source": [
    "BP = \"./musicdata/\""
   ]
  },
  {
   "cell_type": "code",
   "execution_count": 10,
   "metadata": {
    "collapsed": false
   },
   "outputs": [
    {
     "name": "stdout",
     "output_type": "stream",
     "text": [
      "['spectrograms1.pcl', 'spectrograms2.pcl', 'spectrograms3.pcl', 'spectrograms4.pcl', 'spectrograms5.pcl', 'spectrograms6.pcl']\n"
     ]
    }
   ],
   "source": [
    "files = os.listdir(os.path.join(BP,\"spectrograms\"))\n",
    "sorted_files = sorted(files)\n",
    "trainfiles = sorted_files[:-1]\n",
    "print trainfiles"
   ]
  },
  {
   "cell_type": "code",
   "execution_count": 13,
   "metadata": {
    "collapsed": false
   },
   "outputs": [
    {
     "name": "stdout",
     "output_type": "stream",
     "text": [
      "loading file:  spectrograms1.pcl\n",
      "loading file:  spectrograms2.pcl\n",
      "loading file:  spectrograms3.pcl\n",
      "loading file:  spectrograms4.pcl\n",
      "loading file:  spectrograms5.pcl\n",
      "loading file:  spectrograms6.pcl\n",
      "(12000, 128, 431)\n"
     ]
    }
   ],
   "source": [
    "import numpy as np\n",
    "print \"loading file: \", trainfiles[0]\n",
    "X = np.load(os.path.join(BP, \"spectrograms\", trainfiles[0]), mmap_mode = 'r')\n",
    "for trainfile in trainfiles[1:]:\n",
    "    print \"loading file: \", trainfile\n",
    "    X = np.append(X, np.load(os.path.join(BP, \"spectrograms\", trainfile), mmap_mode = 'r'), axis = 0)\n",
    "\n",
    "# X = np.load(os.path.join(BP, \"spectrograms\", trainfiles[0]))\n",
    "print shape(X)"
   ]
  },
  {
   "cell_type": "markdown",
   "metadata": {},
   "source": [
    "Здесь вы должны получить train genres. Они идут подряд в соответствии с последовательностью треков в файлах с данными. Для содержимого первых шести файлов у вас есть жанры, а для последнего файла, вам их нужно предсказать."
   ]
  },
  {
   "cell_type": "code",
   "execution_count": 14,
   "metadata": {
    "collapsed": false
   },
   "outputs": [
    {
     "name": "stdout",
     "output_type": "stream",
     "text": [
      "12000\n"
     ]
    }
   ],
   "source": [
    "f_in = open(os.path.join(BP, \"train_genres.txt\"), \"rt\")\n",
    "y_lines = []\n",
    "for line in f_in:\n",
    "    y_lines.append(line)\n",
    "print size(y_lines)"
   ]
  },
  {
   "cell_type": "code",
   "execution_count": 15,
   "metadata": {
    "collapsed": false
   },
   "outputs": [],
   "source": [
    "train_genres = y_lines\n",
    "for i in range(len(train_genres)):\n",
    "    train_genres[i] = train_genres[i][:-1]\n",
    "train_genres\n",
    "genres_set = set(train_genres)\n",
    "num_classes = len(genres_set)\n",
    "numbers = [i for i in range(num_classes)]\n",
    "genres_map = dict(zip(genres_set, numbers))\n"
   ]
  },
  {
   "cell_type": "code",
   "execution_count": 16,
   "metadata": {
    "collapsed": false
   },
   "outputs": [
    {
     "name": "stdout",
     "output_type": "stream",
     "text": [
      "{'balkan': 66, 'spiritual': 0, 'industrial': 1, 'punk': 56, 'classical': 2, 'reggae': 34, 'dance': 4, 'rusrap': 5, 'modern': 6, 'pop': 7, 'latinfolk': 65, 'dubstep': 8, 'bard': 9, 'rap': 10, 'blues': 17, 'sport': 12, 'conjazz': 13, 'meditation': 11, 'folk': 15, 'tradjazz': 16, 'dnb': 18, 'trance': 19, 'dub': 20, 'relax': 37, 'children': 22, 'lounge': 23, 'indie': 24, 'other': 25, 'ska': 26, 'eurofolk': 27, 'house': 28, 'prog': 29, 'electronics': 30, 'holiday': 31, 'newage': 32, 'urban': 3, 'alternative': 14, 'reggaeton': 35, 'estrada': 36, 'eastern': 21, 'jewish': 38, 'rnb': 39, 'rock': 62, 'jazz': 40, 'spoken': 33, 'soundtrack': 43, 'amerfolk': 44, 'shanson': 45, 'ukrrock': 42, 'rusfolk': 47, 'rnr': 48, 'hardcore': 49, 'bollywood': 51, 'rusrock': 52, 'funk': 53, 'celtic': 54, 'country': 55, 'metal': 41, 'soul': 57, 'vocal': 58, 'disco': 59, 'techno': 60, 'african': 46, 'asiapop': 63, 'newwave': 64, 'musical': 50, 'experimental': 61}\n",
      "['bard', 'dance', 'relax', 'rock', 'rap', 'soundtrack', 'electronics', 'pop', 'rusrap', 'pop']\n",
      "[  9.   4.  37.  62.  10.  43.  30.   7.   5.   7.]\n"
     ]
    }
   ],
   "source": [
    "train = np.zeros(len(train_genres))\n",
    "for i in range(len(train_genres)):\n",
    "    train[i] = int(genres_map[train_genres[i]])\n",
    "print genres_map\n",
    "print train_genres[:10]\n",
    "print train[:10]"
   ]
  },
  {
   "cell_type": "code",
   "execution_count": null,
   "metadata": {
    "collapsed": true
   },
   "outputs": [],
   "source": [
    "import theano\n",
    "import lasagne\n",
    "import theano.tensor as T\n",
    "\n",
    "from utils3 import train_net"
   ]
  },
  {
   "cell_type": "code",
   "execution_count": null,
   "metadata": {
    "collapsed": true
   },
   "outputs": [],
   "source": [
    "perm = np.random.permutation(len(y))\n",
    "X3, y = np.array(X)[perm].astype('float32'), np.array(train)[perm]\n",
    "Xreshape = X3.reshape(X3.shape[0], X3.shape[1], X3.shape[2])\n",
    "\n",
    "X_train, X_valid = Xreshape[:1800], Xreshape[1800:]\n",
    "y_train, y_valid = y[:1800], y[1800:]"
   ]
  },
  {
   "cell_type": "code",
   "execution_count": null,
   "metadata": {
    "collapsed": true
   },
   "outputs": [],
   "source": [
    "input_X, target_y = T.tensor3(\"X\", dtype='float64'), T.vector(\"y\", dtype='int32')\n",
    "nn = lasagne.layers.InputLayer(shape=(None, X.shape[1], X.shape[2]), input_var=input_X) \n",
    "nn = lasagne.layers.Conv1DLayer(nn, 4, 4)\n",
    "nn = lasagne.layers.MaxPool1DLayer(nn, 2)\n",
    "nn = lasagne.layers.DenseLayer(nn, 100)\n",
    "# nn = ??? Сделайте свою сеть, используя: Conv1DLayer + MaxPool1DLayer + DenseLayer\n",
    "\n",
    "nn = lasagne.layers.DenseLayer(nn, num_classes, nonlinearity=lasagne.nonlinearities.softmax)"
   ]
  },
  {
   "cell_type": "code",
   "execution_count": null,
   "metadata": {
    "collapsed": true
   },
   "outputs": [],
   "source": [
    "y_predicted = lasagne.layers.get_output(nn)\n",
    "all_weights = lasagne.layers.get_all_params(nn)\n",
    "\n",
    "loss = lasagne.objectives.categorical_crossentropy(y_predicted, target_y).mean()\n",
    "accuracy = lasagne.objectives.categorical_accuracy(y_predicted, target_y).mean()\n",
    "updates_sgd = lasagne.updates.adam(loss, all_weights)"
   ]
  },
  {
   "cell_type": "code",
   "execution_count": null,
   "metadata": {
    "collapsed": true
   },
   "outputs": [],
   "source": [
    "train_fun = theano.function([input_X, target_y], [loss, accuracy], allow_input_downcast=True, updates=updates_sgd)\n",
    "test_fun  = theano.function([input_X, target_y], [loss, accuracy], allow_input_downcast=True)"
   ]
  },
  {
   "cell_type": "code",
   "execution_count": null,
   "metadata": {
    "collapsed": true
   },
   "outputs": [],
   "source": [
    "%time conv_nn = train_net(nn, train_fun, test_fun, X_train, y_train, X_valid, y_valid, num_epochs=10, batch_size=100)"
   ]
  },
  {
   "cell_type": "code",
   "execution_count": null,
   "metadata": {
    "collapsed": true
   },
   "outputs": [],
   "source": []
  }
 ],
 "metadata": {
  "kernelspec": {
   "display_name": "Python 2",
   "language": "python",
   "name": "python2"
  },
  "language_info": {
   "codemirror_mode": {
    "name": "ipython",
    "version": 2
   },
   "file_extension": ".py",
   "mimetype": "text/x-python",
   "name": "python",
   "nbconvert_exporter": "python",
   "pygments_lexer": "ipython2",
   "version": "2.7.12"
  }
 },
 "nbformat": 4,
 "nbformat_minor": 0
}
